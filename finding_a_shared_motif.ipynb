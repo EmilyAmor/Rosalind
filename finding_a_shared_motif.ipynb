{
 "cells": [
  {
   "cell_type": "code",
   "execution_count": 1,
   "metadata": {},
   "outputs": [
    {
     "ename": "SyntaxError",
     "evalue": "invalid syntax (<ipython-input-1-d5b2ebd0922b>, line 1)",
     "output_type": "error",
     "traceback": [
      "\u001b[0;36m  File \u001b[0;32m\"<ipython-input-1-d5b2ebd0922b>\"\u001b[0;36m, line \u001b[0;32m1\u001b[0m\n\u001b[0;31m    >Rosalind_1\u001b[0m\n\u001b[0m    ^\u001b[0m\n\u001b[0;31mSyntaxError\u001b[0m\u001b[0;31m:\u001b[0m invalid syntax\n"
     ]
    }
   ],
   "source": [
    ">Rosalind_1\n",
    "GATTACA\n",
    ">Rosalind_2\n",
    "TAGACCA\n",
    ">Rosalind_3\n",
    "ATACA"
   ]
  },
  {
   "cell_type": "code",
   "execution_count": 2,
   "metadata": {
    "collapsed": true
   },
   "outputs": [],
   "source": [
    "from Bio import SeqIO"
   ]
  },
  {
   "cell_type": "code",
   "execution_count": 72,
   "metadata": {
    "collapsed": true
   },
   "outputs": [],
   "source": [
    "string_a = \"academy\"\n",
    "string_b = \"abracadabra\""
   ]
  },
  {
   "cell_type": "code",
   "execution_count": 73,
   "metadata": {},
   "outputs": [],
   "source": [
    "length_a = len(string_a)\n",
    "length_b = len(string_b)\n"
   ]
  },
  {
   "cell_type": "markdown",
   "metadata": {},
   "source": [
    "#### compare first base in string_a with all positions of string_b, then next base in string_a with all bases in string_b, ect.."
   ]
  },
  {
   "cell_type": "code",
   "execution_count": 74,
   "metadata": {},
   "outputs": [
    {
     "name": "stdout",
     "output_type": "stream",
     "text": [
      "match at: a in position: 0 of string_a and a in position: 0\n",
      "match at: a in position: 0 of string_a and a in position: 3\n",
      "match at: a in position: 0 of string_a and a in position: 5\n",
      "match at: a in position: 0 of string_a and a in position: 7\n",
      "match at: a in position: 0 of string_a and a in position: 10\n",
      "match at: c in position: 1 of string_a and c in position: 4\n",
      "match at: a in position: 2 of string_a and a in position: 0\n",
      "match at: a in position: 2 of string_a and a in position: 3\n",
      "match at: a in position: 2 of string_a and a in position: 5\n",
      "match at: a in position: 2 of string_a and a in position: 7\n",
      "match at: a in position: 2 of string_a and a in position: 10\n",
      "match at: d in position: 3 of string_a and d in position: 6\n"
     ]
    }
   ],
   "source": [
    "for index_a in range(length_a):\n",
    "    #print (index_a)\n",
    "    #print (string_a[index_a])\n",
    "    for index_b in range(length_b):\n",
    "        #print (string_b[index_b]) \n",
    "        if string_a[index_a] == string_b[index_b]:\n",
    "            print ('match at:', string_a[index_a], \"in position:\", index_a, \"of string_a\", \"and\", string_b[index_b], \"in position:\", index_b)\n",
    "        \n",
    "            \n",
    "        \n",
    "        \n",
    "        "
   ]
  },
  {
   "cell_type": "code",
   "execution_count": 75,
   "metadata": {},
   "outputs": [],
   "source": [
    "counter = [[0]*(length_b+1) for x in range(length_a+1)]\n"
   ]
  },
  {
   "cell_type": "code",
   "execution_count": 85,
   "metadata": {},
   "outputs": [
    {
     "name": "stdout",
     "output_type": "stream",
     "text": [
      "{''}\n"
     ]
    }
   ],
   "source": [
    "for index_a in range(length_a):\n",
    "    for index_b in range(length_b):\n",
    "        #print (counter[index_a][index_b])\n",
    "        if string_a[index_a] == string_b[index_b]:\n",
    "            # get value from array at that point (index_a, index_b) and then adding 1:\n",
    "            c = counter[index_a][index_b] + 1\n",
    "            # moving to the point (index_a+1, index_b+1) in the array and setting that point\n",
    "            # to the value c:\n",
    "            counter[index_a+1][index_b+1] = c\n",
    "            if c > longest:\n",
    "                lcs_set = set()\n",
    "                longest = c\n",
    "                lcs_set.add(string_a[i-c+1:i+1])\n",
    "            elif c == longest:\n",
    "                    lcs_set.add(string_a[i-c+1:i+1])\n",
    "print (lcs_set)"
   ]
  },
  {
   "cell_type": "code",
   "execution_count": 77,
   "metadata": {},
   "outputs": [
    {
     "data": {
      "text/plain": [
       "[[0, 0, 0, 0, 0, 0, 0, 0, 0, 0, 0, 0],\n",
       " [0, 1, 0, 0, 1, 0, 1, 0, 1, 0, 0, 1],\n",
       " [0, 0, 0, 0, 0, 2, 0, 0, 0, 0, 0, 0],\n",
       " [0, 1, 0, 0, 1, 0, 3, 0, 1, 0, 0, 1],\n",
       " [0, 0, 0, 0, 0, 0, 0, 4, 0, 0, 0, 0],\n",
       " [0, 0, 0, 0, 0, 0, 0, 0, 0, 0, 0, 0],\n",
       " [0, 0, 0, 0, 0, 0, 0, 0, 0, 0, 0, 0],\n",
       " [0, 0, 0, 0, 0, 0, 0, 0, 0, 0, 0, 0]]"
      ]
     },
     "execution_count": 77,
     "metadata": {},
     "output_type": "execute_result"
    }
   ],
   "source": [
    "counter"
   ]
  },
  {
   "cell_type": "code",
   "execution_count": 78,
   "metadata": {
    "collapsed": true
   },
   "outputs": [],
   "source": [
    "longest = 0\n"
   ]
  },
  {
   "cell_type": "code",
   "execution_count": 79,
   "metadata": {},
   "outputs": [],
   "source": [
    "if c > longest:\n",
    "    lcs_set = set()\n",
    "    longest = c\n",
    "    lcs_set.add(string_a[i-c+1:i+1])\n",
    "elif c == longest:\n",
    "    lcs_set.add(string_a[i-c+1:i+1])\n",
    "    "
   ]
  },
  {
   "cell_type": "code",
   "execution_count": 80,
   "metadata": {},
   "outputs": [
    {
     "name": "stdout",
     "output_type": "stream",
     "text": [
      "{''}\n"
     ]
    }
   ],
   "source": [
    "print (lcs_set)"
   ]
  },
  {
   "cell_type": "code",
   "execution_count": null,
   "metadata": {
    "collapsed": true
   },
   "outputs": [],
   "source": []
  }
 ],
 "metadata": {
  "kernelspec": {
   "display_name": "Python 3",
   "language": "python",
   "name": "python3"
  },
  "language_info": {
   "codemirror_mode": {
    "name": "ipython",
    "version": 3
   },
   "file_extension": ".py",
   "mimetype": "text/x-python",
   "name": "python",
   "nbconvert_exporter": "python",
   "pygments_lexer": "ipython3",
   "version": "3.6.1"
  }
 },
 "nbformat": 4,
 "nbformat_minor": 2
}
