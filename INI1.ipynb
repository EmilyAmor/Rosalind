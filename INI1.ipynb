{
 "cells": [
  {
   "cell_type": "code",
   "execution_count": 5,
   "metadata": {
    "collapsed": false
   },
   "outputs": [
    {
     "name": "stdout",
     "output_type": "stream",
     "text": [
      "The Zen of Python, by Tim Peters\n",
      "\n",
      "Beautiful is better than ugly.\n",
      "Explicit is better than implicit.\n",
      "Simple is better than complex.\n",
      "Complex is better than complicated.\n",
      "Flat is better than nested.\n",
      "Sparse is better than dense.\n",
      "Readability counts.\n",
      "Special cases aren't special enough to break the rules.\n",
      "Although practicality beats purity.\n",
      "Errors should never pass silently.\n",
      "Unless explicitly silenced.\n",
      "In the face of ambiguity, refuse the temptation to guess.\n",
      "There should be one-- and preferably only one --obvious way to do it.\n",
      "Although that way may not be obvious at first unless you're Dutch.\n",
      "Now is better than never.\n",
      "Although never is often better than *right* now.\n",
      "If the implementation is hard to explain, it's a bad idea.\n",
      "If the implementation is easy to explain, it may be a good idea.\n",
      "Namespaces are one honking great idea -- let's do more of those!\n"
     ]
    }
   ],
   "source": [
    "import this\n"
   ]
  },
  {
   "cell_type": "markdown",
   "metadata": {},
   "source": [
    "## Problem\n",
    "\n",
    "Given: Two positive integers a\n",
    "and b, each less than 1000.\n",
    "\n",
    "Return: The integer corresponding to the square of the hypotenuse of the right triangle whose legs have lengths a\n",
    "and b\n"
   ]
  },
  {
   "cell_type": "code",
   "execution_count": 6,
   "metadata": {
    "collapsed": false
   },
   "outputs": [
    {
     "name": "stdout",
     "output_type": "stream",
     "text": [
      "1656488\n"
     ]
    }
   ],
   "source": [
    "a = 898 \n",
    "b = 922\n",
    "hyptenuse = (a ** 2) + (b ** 2)\n",
    "print(hyptenuse)"
   ]
  },
  {
   "cell_type": "markdown",
   "metadata": {},
   "source": [
    "## Problem\n",
    "\n",
    "Given: A string s\n",
    "of length at most 200 letters and four integers a, b, c and d.\n",
    "\n",
    "Return: The slice of this string from indices a\n",
    "through b and c through d (with space in between), inclusively."
   ]
  },
  {
   "cell_type": "code",
   "execution_count": 7,
   "metadata": {
    "collapsed": false
   },
   "outputs": [
    {
     "name": "stdout",
     "output_type": "stream",
     "text": [
      "Limosa carinata\n"
     ]
    }
   ],
   "source": [
    "s = '6TId92xnGjYUBOh0jfzEZEVxd3QYYkJf7EEr593Z1v9bFADOy0s8RwmmzhnqyLimosaDOXFlImQOPJvWsVVwbl9MYA22VbBMzy5rVqVH5YV2bCZlcarinatah95jfjIxXDUkGqW6xxxnqFicrcObguMeoJZpDXaawaRgc5R'\n",
    "# 61 66 112 119\n",
    "\n",
    "answer = s[61:67]+ \" \" + s[112:120]\n",
    "print(answer)"
   ]
  },
  {
   "cell_type": "markdown",
   "metadata": {},
   "source": [
    "## Problem\n",
    "\n",
    "Given: Two positive integers a\n",
    "and b (a<b<10000).\n",
    "\n",
    "Return: The sum of all odd integers from a\n",
    "through b, inclusively."
   ]
  },
  {
   "cell_type": "code",
   "execution_count": 8,
   "metadata": {
    "collapsed": false
   },
   "outputs": [
    {
     "name": "stdout",
     "output_type": "stream",
     "text": [
      "0\n"
     ]
    }
   ],
   "source": [
    "a = 100\n",
    "b = 200\n",
    "for numbers in range(a, b+1):\n",
    "    if numbers % 2 == 1:\n",
    "        total = total + numbers\n",
    "print (total)\n",
    "        "
   ]
  },
  {
   "cell_type": "markdown",
   "metadata": {
    "collapsed": true
   },
   "source": [
    "## Problem\n",
    "\n",
    "Given: A file containing at most 1000 lines.\n",
    "\n",
    "Return: A file containing all the even-numbered lines from the original file. Assume 1-based numbering of lines."
   ]
  },
  {
   "cell_type": "code",
   "execution_count": 1,
   "metadata": {
    "collapsed": false
   },
   "outputs": [
    {
     "name": "stdout",
     "output_type": "stream",
     "text": [
      "INI1.ipynb  rosalind_ini5.txt\r\n"
     ]
    }
   ],
   "source": [
    "ls\n"
   ]
  },
  {
   "cell_type": "code",
   "execution_count": 39,
   "metadata": {
    "collapsed": true
   },
   "outputs": [],
   "source": [
    "file = open('rosalind_ini5.txt', 'r')"
   ]
  },
  {
   "cell_type": "code",
   "execution_count": 40,
   "metadata": {
    "collapsed": false
   },
   "outputs": [],
   "source": [
    "fileX = file.read()"
   ]
  },
  {
   "cell_type": "code",
   "execution_count": 41,
   "metadata": {
    "collapsed": false
   },
   "outputs": [
    {
     "data": {
      "text/plain": [
       "'`Twas brillig, and the slithy toves\\nSome things in life are bad, they can really make you mad\\n  Did gyre and gimble in the wabe:\\nOther things just make you swear and curse\\nAll mimsy were the borogoves,\\nWhen you\\'re chewing on life\\'s gristle, don\\'t grumble give a whistle\\n  And the mome raths outgrabe.\\nThis will help things turn out for the best\\n\"Beware the Jabberwock, my son!\\nAlways look on the bright side of life\\n  The jaws that bite, the claws that catch!\\nAlways look on the right side of life\\nBeware the Jubjub bird, and shun\\nIf life seems jolly rotten, there\\'s something you\\'ve forgotten\\n  The frumious Bandersnatch!\"\\nAnd that\\'s to laugh and smile and dance and sing\\nHe took his vorpal sword in hand:\\nWhen you\\'re feeling in the dumps, don\\'t be silly, chumps\\n  Long time the manxome foe he sought --\\nJust purse your lips and whistle, that\\'s the thing\\nSo rested he by the Tumtum tree,\\nSo, always look on the bright side of death\\n  And stood awhile in thought.\\nJust before you draw your terminal breath\\nAnd, as in uffish thought he stood,\\nLife\\'s a counterfeit and when you look at it\\n  The Jabberwock, with eyes of flame,\\nLife\\'s a laugh and death\\'s the joke, it\\'s true\\nCame whiffling through the tulgey wood,\\nYou see, it\\'s all a show, keep them laughing as you go\\n  And burbled as it came!\\nJust remember the last laugh is on you\\nOne, two! One, two! And through and through\\nAlways look on the bright side of life\\n  The vorpal blade went snicker-snack!\\nAnd always look on the right side of life\\nHe left it dead, and with its head\\nAlways look on the bright side of life\\n  He went galumphing back.\\nAnd always look on the right side of life\\n'"
      ]
     },
     "execution_count": 41,
     "metadata": {},
     "output_type": "execute_result"
    }
   ],
   "source": [
    "fileX"
   ]
  },
  {
   "cell_type": "code",
   "execution_count": 42,
   "metadata": {
    "collapsed": false
   },
   "outputs": [
    {
     "name": "stdout",
     "output_type": "stream",
     "text": [
      "Before split \n",
      ": `Twas brillig, and the slithy toves\n",
      "Some things in life are bad, they can really make you mad\n",
      "  Did gyre and gimble in the wabe:\n",
      "Other things just make you swear and curse\n",
      "All mimsy were the borogoves,\n",
      "When you're chewing on life's gristle, don't grumble give a whistle\n",
      "  And the mome raths outgrabe.\n",
      "This will help things turn out for the best\n",
      "\"Beware the Jabberwock, my son!\n",
      "Always look on the bright side of life\n",
      "  The jaws that bite, the claws that catch!\n",
      "Always look on the right side of life\n",
      "Beware the Jubjub bird, and shun\n",
      "If life seems jolly rotten, there's something you've forgotten\n",
      "  The frumious Bandersnatch!\"\n",
      "And that's to laugh and smile and dance and sing\n",
      "He took his vorpal sword in hand:\n",
      "When you're feeling in the dumps, don't be silly, chumps\n",
      "  Long time the manxome foe he sought --\n",
      "Just purse your lips and whistle, that's the thing\n",
      "So rested he by the Tumtum tree,\n",
      "So, always look on the bright side of death\n",
      "  And stood awhile in thought.\n",
      "Just before you draw your terminal breath\n",
      "And, as in uffish thought he stood,\n",
      "Life's a counterfeit and when you look at it\n",
      "  The Jabberwock, with eyes of flame,\n",
      "Life's a laugh and death's the joke, it's true\n",
      "Came whiffling through the tulgey wood,\n",
      "You see, it's all a show, keep them laughing as you go\n",
      "  And burbled as it came!\n",
      "Just remember the last laugh is on you\n",
      "One, two! One, two! And through and through\n",
      "Always look on the bright side of life\n",
      "  The vorpal blade went snicker-snack!\n",
      "And always look on the right side of life\n",
      "He left it dead, and with its head\n",
      "Always look on the bright side of life\n",
      "  He went galumphing back.\n",
      "And always look on the right side of life\n",
      "\n",
      "with \n",
      ": ['`Twas brillig, and the slithy toves', 'Some things in life are bad, they can really make you mad', '  Did gyre and gimble in the wabe:', 'Other things just make you swear and curse', 'All mimsy were the borogoves,', \"When you're chewing on life's gristle, don't grumble give a whistle\", '  And the mome raths outgrabe.', 'This will help things turn out for the best', '\"Beware the Jabberwock, my son!', 'Always look on the bright side of life', '  The jaws that bite, the claws that catch!', 'Always look on the right side of life', 'Beware the Jubjub bird, and shun', \"If life seems jolly rotten, there's something you've forgotten\", '  The frumious Bandersnatch!\"', \"And that's to laugh and smile and dance and sing\", 'He took his vorpal sword in hand:', \"When you're feeling in the dumps, don't be silly, chumps\", '  Long time the manxome foe he sought --', \"Just purse your lips and whistle, that's the thing\", 'So rested he by the Tumtum tree,', 'So, always look on the bright side of death', '  And stood awhile in thought.', 'Just before you draw your terminal breath', 'And, as in uffish thought he stood,', \"Life's a counterfeit and when you look at it\", '  The Jabberwock, with eyes of flame,', \"Life's a laugh and death's the joke, it's true\", 'Came whiffling through the tulgey wood,', \"You see, it's all a show, keep them laughing as you go\", '  And burbled as it came!', 'Just remember the last laugh is on you', 'One, two! One, two! And through and through', 'Always look on the bright side of life', '  The vorpal blade went snicker-snack!', 'And always look on the right side of life', 'He left it dead, and with its head', 'Always look on the bright side of life', '  He went galumphing back.', 'And always look on the right side of life', '']\n",
      "without \n",
      ": ['`Twas brillig, and the slithy toves', 'Some things in life are bad, they can really make you mad', '  Did gyre and gimble in the wabe:', 'Other things just make you swear and curse', 'All mimsy were the borogoves,', \"When you're chewing on life's gristle, don't grumble give a whistle\", '  And the mome raths outgrabe.', 'This will help things turn out for the best', '\"Beware the Jabberwock, my son!', 'Always look on the bright side of life', '  The jaws that bite, the claws that catch!', 'Always look on the right side of life', 'Beware the Jubjub bird, and shun', \"If life seems jolly rotten, there's something you've forgotten\", '  The frumious Bandersnatch!\"', \"And that's to laugh and smile and dance and sing\", 'He took his vorpal sword in hand:', \"When you're feeling in the dumps, don't be silly, chumps\", '  Long time the manxome foe he sought --', \"Just purse your lips and whistle, that's the thing\", 'So rested he by the Tumtum tree,', 'So, always look on the bright side of death', '  And stood awhile in thought.', 'Just before you draw your terminal breath', 'And, as in uffish thought he stood,', \"Life's a counterfeit and when you look at it\", '  The Jabberwock, with eyes of flame,', \"Life's a laugh and death's the joke, it's true\", 'Came whiffling through the tulgey wood,', \"You see, it's all a show, keep them laughing as you go\", '  And burbled as it came!', 'Just remember the last laugh is on you', 'One, two! One, two! And through and through', 'Always look on the bright side of life', '  The vorpal blade went snicker-snack!', 'And always look on the right side of life', 'He left it dead, and with its head', 'Always look on the bright side of life', '  He went galumphing back.', 'And always look on the right side of life']\n"
     ]
    }
   ],
   "source": [
    "print (\"Before split \\n:\", fileX)\n",
    "lines = fileX.split(\"\\n\")\n",
    "print (\"with \\n:\", lines)\n",
    "linesEdited = list(map(lambda x: x.replace(\"\\n\",\"\"),lines))[:-1]\n",
    "print (\"without \\n:\", linesEdited)"
   ]
  },
  {
   "cell_type": "code",
   "execution_count": 44,
   "metadata": {
    "collapsed": false
   },
   "outputs": [
    {
     "name": "stdout",
     "output_type": "stream",
     "text": [
      "['`Twas brillig, and the slithy toves', 'Some things in life are bad, they can really make you mad', '  Did gyre and gimble in the wabe:', 'Other things just make you swear and curse', 'All mimsy were the borogoves,', \"When you're chewing on life's gristle, don't grumble give a whistle\", '  And the mome raths outgrabe.', 'This will help things turn out for the best', '\"Beware the Jabberwock, my son!', 'Always look on the bright side of life', '  The jaws that bite, the claws that catch!', 'Always look on the right side of life', 'Beware the Jubjub bird, and shun', \"If life seems jolly rotten, there's something you've forgotten\", '  The frumious Bandersnatch!\"', \"And that's to laugh and smile and dance and sing\", 'He took his vorpal sword in hand:', \"When you're feeling in the dumps, don't be silly, chumps\", '  Long time the manxome foe he sought --', \"Just purse your lips and whistle, that's the thing\", 'So rested he by the Tumtum tree,', 'So, always look on the bright side of death', '  And stood awhile in thought.', 'Just before you draw your terminal breath', 'And, as in uffish thought he stood,', \"Life's a counterfeit and when you look at it\", '  The Jabberwock, with eyes of flame,', \"Life's a laugh and death's the joke, it's true\", 'Came whiffling through the tulgey wood,', \"You see, it's all a show, keep them laughing as you go\", '  And burbled as it came!', 'Just remember the last laugh is on you', 'One, two! One, two! And through and through', 'Always look on the bright side of life', '  The vorpal blade went snicker-snack!', 'And always look on the right side of life', 'He left it dead, and with its head', 'Always look on the bright side of life', '  He went galumphing back.', 'And always look on the right side of life']\n",
      "<class 'str'>\n"
     ]
    }
   ],
   "source": [
    "print(linesEdited)\n",
    "print (type(lines[0]))"
   ]
  },
  {
   "cell_type": "code",
   "execution_count": 45,
   "metadata": {
    "collapsed": false
   },
   "outputs": [
    {
     "name": "stdout",
     "output_type": "stream",
     "text": [
      "['Some things in life are bad, they can really make you mad', 'Other things just make you swear and curse', \"When you're chewing on life's gristle, don't grumble give a whistle\", 'This will help things turn out for the best', 'Always look on the bright side of life', 'Always look on the right side of life', \"If life seems jolly rotten, there's something you've forgotten\", \"And that's to laugh and smile and dance and sing\", \"When you're feeling in the dumps, don't be silly, chumps\", \"Just purse your lips and whistle, that's the thing\", 'So, always look on the bright side of death', 'Just before you draw your terminal breath', \"Life's a counterfeit and when you look at it\", \"Life's a laugh and death's the joke, it's true\", \"You see, it's all a show, keep them laughing as you go\", 'Just remember the last laugh is on you', 'Always look on the bright side of life', 'And always look on the right side of life', 'Always look on the bright side of life', 'And always look on the right side of life']\n"
     ]
    }
   ],
   "source": [
    "evenLines = []\n",
    "lineNumber = 1\n",
    "for line in linesEdited:\n",
    "    if lineNumber % 2 ==0:\n",
    "        evenLines.append(line)\n",
    "    lineNumber += 1\n",
    "print (evenLines)"
   ]
  },
  {
   "cell_type": "code",
   "execution_count": 46,
   "metadata": {
    "collapsed": false
   },
   "outputs": [
    {
     "name": "stdout",
     "output_type": "stream",
     "text": [
      "Some things in life are bad, they can really make you mad\n",
      "Other things just make you swear and curse\n",
      "When you're chewing on life's gristle, don't grumble give a whistle\n",
      "This will help things turn out for the best\n",
      "Always look on the bright side of life\n",
      "Always look on the right side of life\n",
      "If life seems jolly rotten, there's something you've forgotten\n",
      "And that's to laugh and smile and dance and sing\n",
      "When you're feeling in the dumps, don't be silly, chumps\n",
      "Just purse your lips and whistle, that's the thing\n",
      "So, always look on the bright side of death\n",
      "Just before you draw your terminal breath\n",
      "Life's a counterfeit and when you look at it\n",
      "Life's a laugh and death's the joke, it's true\n",
      "You see, it's all a show, keep them laughing as you go\n",
      "Just remember the last laugh is on you\n",
      "Always look on the bright side of life\n",
      "And always look on the right side of life\n",
      "Always look on the bright side of life\n",
      "And always look on the right side of life\n"
     ]
    }
   ],
   "source": [
    "for line in evenLines:\n",
    "    print (line)"
   ]
  },
  {
   "cell_type": "code",
   "execution_count": null,
   "metadata": {
    "collapsed": true
   },
   "outputs": [],
   "source": []
  },
  {
   "cell_type": "code",
   "execution_count": null,
   "metadata": {
    "collapsed": true
   },
   "outputs": [],
   "source": []
  }
 ],
 "metadata": {
  "anaconda-cloud": {},
  "kernelspec": {
   "display_name": "Python [Root]",
   "language": "python",
   "name": "Python [Root]"
  },
  "language_info": {
   "codemirror_mode": {
    "name": "ipython",
    "version": 3
   },
   "file_extension": ".py",
   "mimetype": "text/x-python",
   "name": "python",
   "nbconvert_exporter": "python",
   "pygments_lexer": "ipython3",
   "version": "3.5.2"
  }
 },
 "nbformat": 4,
 "nbformat_minor": 0
}
