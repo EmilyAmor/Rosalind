{
 "cells": [
  {
   "cell_type": "markdown",
   "metadata": {},
   "source": [
    "## Combing Through the Haystack"
   ]
  },
  {
   "cell_type": "markdown",
   "metadata": {},
   "source": [
    "Given: Two DNA strings s and t\n",
    "\n",
    "(each of length at most 1 kbp).\n",
    "\n",
    "Return: All locations of t\n",
    "as a substring of s."
   ]
  },
  {
   "cell_type": "markdown",
   "metadata": {},
   "source": [
    "**Input**\n",
    "1) GATATATGCATATACTT\n",
    "2) ATAT\n"
   ]
  },
  {
   "cell_type": "markdown",
   "metadata": {},
   "source": [
    "**Output** 2 4 10"
   ]
  },
  {
   "cell_type": "code",
   "execution_count": 55,
   "metadata": {
    "collapsed": true
   },
   "outputs": [],
   "source": [
    "import re # use Regular Expressions module to identify \"patterns\""
   ]
  },
  {
   "cell_type": "code",
   "execution_count": 56,
   "metadata": {
    "collapsed": false
   },
   "outputs": [
    {
     "name": "stdout",
     "output_type": "stream",
     "text": [
      "['ATAT', 'ATAT']\n"
     ]
    }
   ],
   "source": [
    "matches = re.findall(r\"ATAT\", \"GATATATGCATATACTT\") # list of all occurances (nonoverlapping)\n",
    "print (matches)\n"
   ]
  },
  {
   "cell_type": "code",
   "execution_count": 57,
   "metadata": {
    "collapsed": false
   },
   "outputs": [
    {
     "name": "stdout",
     "output_type": "stream",
     "text": [
      "2\n"
     ]
    }
   ],
   "source": [
    "matches = len(re.findall(r\"ATAT\", \"GATATATGCATATACTT\")) # count how many times it occured (nonoverlapping) by getting len\n",
    "print (matches)"
   ]
  },
  {
   "cell_type": "code",
   "execution_count": 70,
   "metadata": {
    "collapsed": false
   },
   "outputs": [
    {
     "name": "stdout",
     "output_type": "stream",
     "text": [
      "['A', 'A', 'A']\n",
      "3\n"
     ]
    }
   ],
   "source": [
    "matches = re.findall(r\"A(?=TAT)\", \"GATATATGCATATACTT\")\n",
    "\n",
    "# \"A(?=TAT)\" matches A if TAT follows the A, lookahead assertion\n",
    "# gives the substring that matched \n",
    "# as a list of strings of the substring that matched\n",
    "\n",
    "print (matches)      # gives the substings that matched in the string\n",
    "print (len(matches)) # gives number that the matched occured\n",
    "\n",
    "\n"
   ]
  },
  {
   "cell_type": "code",
   "execution_count": 68,
   "metadata": {
    "collapsed": false
   },
   "outputs": [
    {
     "name": "stdout",
     "output_type": "stream",
     "text": [
      "[1, 3, 9]\n"
     ]
    }
   ],
   "source": [
    "matches = re.finditer(r\"A(?=TAT)\", \"GATATATGCATATACTT\")\n",
    "\n",
    "positions = []\n",
    "for m in matches:\n",
    "    pos = m.start() # gives the postion of each match as python index, need to convert to \"human counting\"\n",
    "    positions.append(pos)\n",
    "\n",
    "print (positions)"
   ]
  },
  {
   "cell_type": "code",
   "execution_count": 75,
   "metadata": {
    "collapsed": false
   },
   "outputs": [
    {
     "name": "stdout",
     "output_type": "stream",
     "text": [
      "[2, 4, 10]\n"
     ]
    }
   ],
   "source": [
    "matches = re.finditer(r\"A(?=TAT)\", \"GATATATGCATATACTT\")\n",
    "\n",
    "positions = []\n",
    "for m in matches:\n",
    "    pos =  1 + m.start() # plus one to count like humans not pythons :)\n",
    "    positions.append(pos)\n",
    "\n",
    "print (positions)"
   ]
  },
  {
   "cell_type": "code",
   "execution_count": 84,
   "metadata": {
    "collapsed": false
   },
   "outputs": [
    {
     "name": "stdout",
     "output_type": "stream",
     "text": [
      "A(?TAT)\n"
     ]
    }
   ],
   "source": [
    "# convert i.e. ATAT to A(?=TAT)\n",
    "s = \"ATAT\"\n",
    "converted = s[0] + '(?' + s[1:] + ')'\n",
    "print (converted)"
   ]
  },
  {
   "cell_type": "code",
   "execution_count": 124,
   "metadata": {
    "collapsed": false
   },
   "outputs": [
    {
     "name": "stdout",
     "output_type": "stream",
     "text": [
      "A(?=TAT)\n"
     ]
    }
   ],
   "source": [
    "s = \"ATAT\"\n",
    "m = s[0]\n",
    "n = s[1:]\n",
    "convert = m + '(?=' + n + ')'\n",
    "print (convert)"
   ]
  },
  {
   "cell_type": "code",
   "execution_count": 146,
   "metadata": {
    "collapsed": false
   },
   "outputs": [],
   "source": [
    "def find_substring_in_string(n):\n",
    "    \n",
    "    # reading in and preparing file into suitable format\n",
    "    file = open(n).read().split('\\n')\n",
    "    substring = file[1]\n",
    "    string = file[0]\n",
    "    \n",
    "    # preparing substring input \n",
    "    motif = substring              \n",
    "    s = motif[0] + '(?=' + motif[1:] + ')'\n",
    " \n",
    "    # using re module, identify all substrings in the string\n",
    "    matches = re.finditer(s, string)\n",
    "\n",
    "    positions = []\n",
    "    for m in matches:\n",
    "        pos =  1 + m.start() # plus one to count like humans not pythons :)\n",
    "        positions.append(pos)\n",
    "        \n",
    "    return positions\n",
    " \n"
   ]
  },
  {
   "cell_type": "code",
   "execution_count": 149,
   "metadata": {
    "collapsed": false
   },
   "outputs": [
    {
     "name": "stdout",
     "output_type": "stream",
     "text": [
      "[4, 19, 64, 102, 207, 214, 236, 275, 287, 401, 443, 458, 465, 528, 548, 660, 667, 691, 708, 746, 777, 820]\n"
     ]
    }
   ],
   "source": [
    "answer = find_substring_in_string('rosalind_subs.txt')\n",
    "print (answer)"
   ]
  },
  {
   "cell_type": "code",
   "execution_count": 145,
   "metadata": {
    "collapsed": false
   },
   "outputs": [
    {
     "name": "stdout",
     "output_type": "stream",
     "text": [
      "GTGTGTAGT\n",
      "GTCGTGTGTAGTGTGTAAGTGTGTAGTGTGTAAGTGTGTAGGACAGCGACTGGGTGTGTATAGGTGTGTAGTGTGTACCACTGTTACCGGTGTGTACGAATGTGTGTAGTGTGTAGAGTGTGTAGGTTTGTGTGTATCAGGTGTGTAAACGGTGTGTGTATGGTGTGTATGTGTGTACTGTGTGTAAGGTGTGTACCGTGTGTATAGTGTGTAGTGTGTAGTGTGTACAGTCTGCGTGTGTAGTGTGTGTAAACGCGGAATCCGGTGTGTATTAGTGTGTAGTTTAGTGTGTAGTGTGTAAAAAGAGCGTTGTGTGTACTGGTGTGTGTAAGTGTGTGTACAGGGTGTGTATAAATGGTACCGTGTGTAGGCTGAGTGTGTATTGTAACGTGTGTATACTGTGTGTAGTGTGTAAGGTGTGTACGTGTGTATCGTGTGTATCGTGTGTAGTGTGTAAGTGTGTAGTGTGTAGTGTGTAGAAAAACGTGTGTACTTCAGCGTGTGTAACGTGTGTATATGTGTGTATGGTGTGTAGTGTGTAGATCAGGTGTGTAGTGTGTATGTGTGTAGGTGTGTACCGTGTGTACGAAGTGTGTAACAAGTCGGTGTGTACGTATCAGTGTGTATGTGTGTAGCCAGTGTGTAAAATCGTGTGTAACGTGTGTAGTGTGTAGTGTGTAATTTTACCTTGTGTGTAGTGTGTAAGGGTGTGTAGTGTGTAACATATGTGTGTAGGTGTGTATGCGTGTGTAGTGTGTATGTGTGTAAGTGTGTATGTGTGTAGTGTGTATGTGTGTAGAGTGTGTATGTAGTGTGTATGTGTGTAGTGTGTACGGATGTGTGTATCAGCAAGTGTGTA\n"
     ]
    }
   ],
   "source": [
    "# reading in a file and preparing it for the function\n",
    "file = open(\"rosalind_subs.txt\").read().split('\\n')\n",
    "substring = file[1]\n",
    "string = file[0]\n"
   ]
  },
  {
   "cell_type": "code",
   "execution_count": null,
   "metadata": {
    "collapsed": true
   },
   "outputs": [],
   "source": []
  }
 ],
 "metadata": {
  "anaconda-cloud": {},
  "kernelspec": {
   "display_name": "Python [Root]",
   "language": "python",
   "name": "Python [Root]"
  },
  "language_info": {
   "codemirror_mode": {
    "name": "ipython",
    "version": 3
   },
   "file_extension": ".py",
   "mimetype": "text/x-python",
   "name": "python",
   "nbconvert_exporter": "python",
   "pygments_lexer": "ipython3",
   "version": "3.5.2"
  }
 },
 "nbformat": 4,
 "nbformat_minor": 0
}
