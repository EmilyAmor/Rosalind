{
 "cells": [
  {
   "cell_type": "markdown",
   "metadata": {},
   "source": [
    "# Problem\n",
    "\n",
    "The GC-content of a DNA string is given by the percentage of symbols in the string that are 'C' or 'G'. For example, the GC-content of \"AGCTATAG\" is 37.5%. Note that the reverse complement of any DNA string has the same GC-content.\n",
    "\n",
    "DNA strings must be labeled when they are consolidated into a database. A commonly used method of string labeling is called FASTA format. In this format, the string is introduced by a line that begins with '>', followed by some labeling information. Subsequent lines contain the string itself; the first line to begin with '>' indicates the label of the next string.\n",
    "\n",
    "In Rosalind's implementation, a string in FASTA format will be labeled by the ID \"Rosalind_xxxx\", where \"xxxx\" denotes a four-digit code between 0000 and 9999.\n",
    "\n",
    "**Given:** At most 10 DNA strings in FASTA format (of length at most 1 kbp each).\n",
    "\n",
    "**Return:** The ID of the string having the highest GC-content, followed by the GC-content of that string. Rosalind allows for a default error of 0.001 in all decimal answers unless otherwise stated; please see the note on absolute error below.\n",
    "\n"
   ]
  },
  {
   "cell_type": "markdown",
   "metadata": {},
   "source": [
    "**Sample Dataset**\n",
    "\n",
    "\\>Rosalind_6404\n",
    "CCTGCGGAAGATCGGCACTAGAATAGCCAGAACCGTTTCTCTGAGGCTTCCGGCCTTCCC\n",
    "TCCCACTAATAATTCTGAGG\n",
    "\\>Rosalind_5959\n",
    "CCATCGGTAGCGCATCCTTAGTCCAATTAAGTCCCTATCCAGGCGCTCCGCCGAAGGTCT\n",
    "ATATCCATTTGTCAGCAGACACGC\n",
    "\\>Rosalind_0808\n",
    "CCACCCTCGTGGTATGGCTAGGCATTCAGGAACCGGAGAACGCTTCAGACCAGCCCGGAC\n",
    "TGGGAACCTGCGGGCAGTAGGTGGAAT\n",
    "\n",
    "**Sample Output**\n",
    "\n",
    "Rosalind_0808\n",
    "60.919540"
   ]
  },
  {
   "cell_type": "code",
   "execution_count": 1,
   "metadata": {
    "collapsed": false
   },
   "outputs": [
    {
     "ename": "FileNotFoundError",
     "evalue": "[Errno 2] No such file or directory: 'rosalind_gc.txt'",
     "output_type": "error",
     "traceback": [
      "\u001b[0;31m---------------------------------------------------------------------------\u001b[0m",
      "\u001b[0;31mFileNotFoundError\u001b[0m                         Traceback (most recent call last)",
      "\u001b[0;32m<ipython-input-1-9f8f3652a1be>\u001b[0m in \u001b[0;36m<module>\u001b[0;34m()\u001b[0m\n\u001b[0;32m----> 1\u001b[0;31m \u001b[0mf\u001b[0m \u001b[0;34m=\u001b[0m \u001b[0mopen\u001b[0m\u001b[0;34m(\u001b[0m\u001b[0;34m'rosalind_gc.txt'\u001b[0m\u001b[0;34m)\u001b[0m\u001b[0;34m\u001b[0m\u001b[0m\n\u001b[0m\u001b[1;32m      2\u001b[0m \u001b[0mfile\u001b[0m \u001b[0;34m=\u001b[0m \u001b[0mf\u001b[0m\u001b[0;34m.\u001b[0m\u001b[0mreadlines\u001b[0m\u001b[0;34m(\u001b[0m\u001b[0;34m)\u001b[0m \u001b[0;31m#list\u001b[0m\u001b[0;34m\u001b[0m\u001b[0m\n\u001b[1;32m      3\u001b[0m \u001b[0mcount\u001b[0m \u001b[0;34m=\u001b[0m \u001b[0;36m0\u001b[0m\u001b[0;34m\u001b[0m\u001b[0m\n\u001b[1;32m      4\u001b[0m \u001b[0;32mfor\u001b[0m \u001b[0mline\u001b[0m \u001b[0;32min\u001b[0m \u001b[0mfile\u001b[0m\u001b[0;34m:\u001b[0m\u001b[0;34m\u001b[0m\u001b[0m\n\u001b[1;32m      5\u001b[0m     \u001b[0;32mif\u001b[0m \u001b[0mline\u001b[0m\u001b[0;34m.\u001b[0m\u001b[0mstartswith\u001b[0m\u001b[0;34m(\u001b[0m\u001b[0;34m'>'\u001b[0m\u001b[0;34m)\u001b[0m\u001b[0;34m:\u001b[0m\u001b[0;34m\u001b[0m\u001b[0m\n",
      "\u001b[0;31mFileNotFoundError\u001b[0m: [Errno 2] No such file or directory: 'rosalind_gc.txt'"
     ]
    }
   ],
   "source": [
    "f = open('rosalind_gc.txt')\n",
    "file = f.readlines() #list\n",
    "count = 0\n",
    "for line in file:\n",
    "    if line.startswith('>'):\n",
    "        count += 1\n",
    "print(count)"
   ]
  },
  {
   "cell_type": "code",
   "execution_count": null,
   "metadata": {
    "collapsed": false
   },
   "outputs": [],
   "source": [
    "inputfile = open('rosalind_gc.txt')\n",
    "outputfile = open(outputfile{}.fasta)\n",
    "index = 0\n",
    "buffer = ''\n",
    "for line in file:\n",
    "    if line.startswith('>'):\n",
    "        f.write(buffer)\n",
    "        f.close()\n",
    "print (buffer)        \n",
    "        "
   ]
  },
  {
   "cell_type": "markdown",
   "metadata": {
    "collapsed": true
   },
   "source": [
    "* open file as string\n",
    "* split at \\n (new line character)\n",
    "* if line.startswith('>') ---> tuple ({}) where gene id is key and sequence is values\n",
    "* for each value in dictionary calculate gc content\n",
    "* return max gc content"
   ]
  },
  {
   "cell_type": "code",
   "execution_count": null,
   "metadata": {
    "collapsed": false
   },
   "outputs": [],
   "source": [
    "f = open('rosalind_gc.txt', 'r')\n",
    "inputfile = f.readlines()\n",
    "\n",
    "print (inputfile)"
   ]
  },
  {
   "cell_type": "code",
   "execution_count": null,
   "metadata": {
    "collapsed": false
   },
   "outputs": [],
   "source": [
    "# creating a dictionary for gene id as key and sequence as value\n",
    "\n",
    "new_list = []\n",
    "for line in inputfile:\n",
    "    new_list.append(line.replace('\\n', ''))\n",
    "#print (new_list)\n",
    "\n",
    "# or can do it this way\n",
    "\n",
    "#new_list2 = list(map((lambda x: x.replace('\\n', '')), inputfile))\n",
    "#print (new_list2)\n",
    "\n",
    "appended_list = []\n",
    "my_tuple = {}\n",
    "key_list = []\n",
    "for line in new_list:\n",
    "    if line.startswith('>'):\n",
    "        my_tuple[line] = 0\n",
    "        key_list.append(line)\n",
    "        key = line\n",
    "        value = ''\n",
    "        appended_list = line\n",
    "    else:\n",
    "        value += line\n",
    "        my_tuple[key] = value\n",
    "print (my_tuple)\n",
    "\n",
    "\n",
    "\n",
    "\n",
    "    \n",
    "        "
   ]
  },
  {
   "cell_type": "code",
   "execution_count": null,
   "metadata": {
    "collapsed": false
   },
   "outputs": [],
   "source": [
    "new_list = []\n",
    "for line in inputfile:\n",
    "    new_list.append(line.replace('\\n', ''))\n",
    "\n",
    "appended_list = []\n",
    "my_tuple = {}\n",
    "key_list = []\n",
    "value = ''\n",
    "for line in new_list:\n",
    "    if line.startswith('>'):\n",
    "        my_tuple[line.strip('>')] = 0\n",
    "        key_list.append(line.strip('>'))\n",
    "        key = line.strip('>')\n",
    "        value = \"\"\n",
    "    else:\n",
    "        value += line\n",
    "        my_tuple[key] = value\n",
    "print (my_tuple)"
   ]
  },
  {
   "cell_type": "code",
   "execution_count": null,
   "metadata": {
    "collapsed": false
   },
   "outputs": [],
   "source": []
  },
  {
   "cell_type": "code",
   "execution_count": null,
   "metadata": {
    "collapsed": false
   },
   "outputs": [],
   "source": [
    "# getting gc_percent for each gene\n",
    "index = 0\n",
    "gc_percent = dict()\n",
    "for i in key_list:\n",
    "    gene_name = key_list[index]\n",
    "    index += 1\n",
    "    sequence = my_tuple[gene_name]\n",
    "    g = sequence.count('G')\n",
    "    c = sequence.count('C')\n",
    "    total = len(value)\n",
    "    gc_content = ((g + c)/total) * 100\n",
    "    gc_percent[gene_name] = round(gc_content, 6)\n",
    "    \n"
   ]
  },
  {
   "cell_type": "code",
   "execution_count": null,
   "metadata": {
    "collapsed": true
   },
   "outputs": [],
   "source": []
  },
  {
   "cell_type": "code",
   "execution_count": null,
   "metadata": {
    "collapsed": false
   },
   "outputs": [],
   "source": [
    "string = \"CAGTTTTTTCTTCCATCGCGTAGGATCTCGCAACGCGTCACGAGCACTCCCACAAGTCCAGCCGACAGTGCGGTACAGCCGGATTACTCCCGCTTCCCCATTTTCACTTGAGAATGAAAAACGTACCAGTCGACGTTCCGTCGTGCTCCATACTCAGCCCATACTACGAGTTAGAGCGCGCGCACTCGGCTGTAGGGCGACGTGGTTCTGTTTGTAGGCATTGAGGTGGCCCTTCATAGGCCCCCGCTACATATCGCCCGCGTTAATATAGGGGAACTTAAACTCAATGTGCCCATGAGCCACTATGTGGAACATCTAAGCTGGTTTTAAGTCGAAGAGTTCCATAAGCGCAGTCACTGACGTTAGCTGTGTAGCTACATCGCATCCGTGTCGCACCCTAGACCAGACGCTGCGATACTATGTCGGTACACTTTCATCCCTTTCCTTCCGTTTAATAGTAATCTACGACGAGAACCCGGCCTATCATACCCCACATACCGAGATGCGAGGTCCAATCAGATGAAGACGGATGTATAAAAGCGACGAATCAGACCGACCTTTCGCTTGGTTAGAAACCGCGGCACACGTGCTTGAGACACTCGTGACTTGAACCAAATCAATTTCGCTAGTTCAACCACTGGTCAGGCATTTCAAAATTGGAAATGCCTATTACCTACTAGTGTACGTCGTTTTGTTGGGCGTTAAAAGGGAACGCATAAAGAGGCAGGTGACCAGCGGACCGCGCTAGCGGATACGGACATCAATCGAGATTCCACTAAATTAACCCCGCCCGGAATTCCGGCCTTTGAAGACTTGATGATCGCGCGGTCATCTATTGTCGAGGATTAATAGAGTACGCATCCA\"\n",
    "g = 0\n",
    "c = 0 # 1771\n",
    "total = len(string)\n",
    "for i in string:\n",
    "    if i == 'G':\n",
    "        g += 1\n",
    "    if i == 'C':\n",
    "        c += 1\n",
    "gc_content = ((g+c)/total) * 100\n",
    "print (gc_content)"
   ]
  },
  {
   "cell_type": "code",
   "execution_count": null,
   "metadata": {
    "collapsed": false
   },
   "outputs": [],
   "source": [
    "string = \"CAGTTTTTTCTTCCATCGCGTAGGATCTCGCAACGCGTCACGAGCACTCCCACAAGTCCAGCCGACAGTGCGGTACAGCCGGATTACTCCCGCTTCCCCATTTTCACTTGAGAATGAAAAACGTACCAGTCGACGTTCCGTCGTGCTCCATACTCAGCCCATACTACGAGTTAGAGCGCGCGCACTCGGCTGTAGGGCGACGTGGTTCTGTTTGTAGGCATTGAGGTGGCCCTTCATAGGCCCCCGCTACATATCGCCCGCGTTAATATAGGGGAACTTAAACTCAATGTGCCCATGAGCCACTATGTGGAACATCTAAGCTGGTTTTAAGTCGAAGAGTTCCATAAGCGCAGTCACTGACGTTAGCTGTGTAGCTACATCGCATCCGTGTCGCACCCTAGACCAGACGCTGCGATACTATGTCGGTACACTTTCATCCCTTTCCTTCCGTTTAATAGTAATCTACGACGAGAACCCGGCCTATCATACCCCACATACCGAGATGCGAGGTCCAATCAGATGAAGACGGATGTATAAAAGCGACGAATCAGACCGACCTTTCGCTTGGTTAGAAACCGCGGCACACGTGCTTGAGACACTCGTGACTTGAACCAAATCAATTTCGCTAGTTCAACCACTGGTCAGGCATTTCAAAATTGGAAATGCCTATTACCTACTAGTGTACGTCGTTTTGTTGGGCGTTAAAAGGGAACGCATAAAGAGGCAGGTGACCAGCGGACCGCGCTAGCGGATACGGACATCAATCGAGATTCCACTAAATTAACCCCGCCCGGAATTCCGGCCTTTGAAGACTTGATGATCGCGCGGTCATCTATTGTCGAGGATTAATAGAGTACGCATCCA\"\n",
    "g = 0\n",
    "c = 0\n",
    "total = len(string)\n",
    "g = string.count('G')\n",
    "c = string.count('C')\n",
    "gc_content = ((g+c)/total) * 100\n",
    "print (round(gc_content, 6))"
   ]
  },
  {
   "cell_type": "code",
   "execution_count": null,
   "metadata": {
    "collapsed": false
   },
   "outputs": [],
   "source": [
    "print (key_list)"
   ]
  },
  {
   "cell_type": "code",
   "execution_count": null,
   "metadata": {
    "collapsed": false
   },
   "outputs": [],
   "source": [
    "print (gc_percent[key_list[0]])"
   ]
  },
  {
   "cell_type": "code",
   "execution_count": null,
   "metadata": {
    "collapsed": false
   },
   "outputs": [],
   "source": [
    "print (gc_percent[key_list[1]])"
   ]
  },
  {
   "cell_type": "code",
   "execution_count": null,
   "metadata": {
    "collapsed": false
   },
   "outputs": [],
   "source": [
    "key_list\n",
    "                                                                  \n",
    "\n",
    " "
   ]
  },
  {
   "cell_type": "code",
   "execution_count": null,
   "metadata": {
    "collapsed": false
   },
   "outputs": [],
   "source": [
    "gc_percent\n",
    "                                                \n",
    "                                         "
   ]
  },
  {
   "cell_type": "code",
   "execution_count": null,
   "metadata": {
    "collapsed": false
   },
   "outputs": [],
   "source": [
    "maximum = max(gc_percent, key=gc_percent.get)  # Just use 'min' instead of 'max' for minimum.\n",
    "print (maximum)\n",
    "print(gc_percent[maximum])"
   ]
  },
  {
   "cell_type": "code",
   "execution_count": null,
   "metadata": {
    "collapsed": false
   },
   "outputs": [],
   "source": [
    "maximum = max(gc_percent, key = gc_percent.get)\n",
    "print (maximum)"
   ]
  },
  {
   "cell_type": "code",
   "execution_count": null,
   "metadata": {
    "collapsed": false
   },
   "outputs": [],
   "source": [
    "maximum =  max(gc_percent)\n",
    "print (maximum)"
   ]
  },
  {
   "cell_type": "code",
   "execution_count": null,
   "metadata": {
    "collapsed": false
   },
   "outputs": [],
   "source": [
    "help (max)\n"
   ]
  },
  {
   "cell_type": "markdown",
   "metadata": {},
   "source": [
    "### The solution"
   ]
  },
  {
   "cell_type": "code",
   "execution_count": 100,
   "metadata": {
    "collapsed": false
   },
   "outputs": [],
   "source": [
    "# make this code python 2 compatible\n",
    "from __future__ import print_function, division\n",
    "\n",
    "def line_to_id(line):\n",
    "    bare_line = line[1:]  # get rid of '>'\n",
    "    trimmed_line = bare_line.strip()  # remove whitespace at the ends of the line\n",
    "    parts = trimmed_line.split()  # split it into words\n",
    "    id_part = parts[0]  # the first part\n",
    "    clean_id = id_part.replace('|','_')  # replace | with _\n",
    "    return clean_id\n",
    "\n",
    "def gc_content(inputfile):\n",
    "    #inport file\n",
    "    input = open(inputfile)\n",
    "#     file = input.readlines()\n",
    "    # remove end of line characters\n",
    "#     new_list = []\n",
    "#     for line in file:\n",
    "#         new_list.append(line.replace('\\n', ''))\n",
    "#     appended_list = []\n",
    "    # make tuple/dictionary of information\n",
    "    my_dict = {}\n",
    "    key_list = []\n",
    "    for line in input:\n",
    "        line = line.strip()\n",
    "        if line.startswith('>'):\n",
    "            key = line_to_id(line)  # save the header line as the current key\n",
    "            my_dict[key] = ''\n",
    "        else:\n",
    "            my_dict[key] += line  # add the data line to the current key's value\n",
    "            \n",
    "            \n",
    "    # calculate gc content\n",
    "    index = 0\n",
    "    gc_percent = dict()\n",
    "    for (gene_name, sequence) in my_dict.items():\n",
    "        sequence = sequence.upper()\n",
    "        g = sequence.count('G')\n",
    "        c = sequence.count('C')\n",
    "        total = len(sequence)  # total = sequence.count('T') + sequence.count('A') + g + c\n",
    "        gc_content = ((g + c)/total) * 100\n",
    "        gc_percent[gene_name] = gc_content\n",
    "    #return gene with biggest gc percent\n",
    "# method 1\n",
    "#     max_gene_name = ''\n",
    "#     max_gc = 0\n",
    "#     for gene_name in gc_percent:\n",
    "#         gc_perc = gc_percent[gene_name]\n",
    "#         if gc_perc > max_gc:\n",
    "#             max_gc = gc_perc\n",
    "#             max_gene_name = gene_name\n",
    "#     print(max_gene_name)\n",
    "#     print('{:.6f}'.format(max_gc))\n",
    "    # method 2\n",
    "    maximum = max(gc_percent, key=gc_percent.get)  # Just use 'min' instead of 'max' for minimum.\n",
    "    print(maximum)\n",
    "    print('{:.6f}'.format(gc_percent[maximum]))  # formatting: https://pyformat.info/\n",
    "\n",
    "    "
   ]
  },
  {
   "cell_type": "code",
   "execution_count": 101,
   "metadata": {
    "collapsed": false
   },
   "outputs": [
    {
     "name": "stdout",
     "output_type": "stream",
     "text": [
      "Rosalind_0808\n",
      "60.919540\n"
     ]
    }
   ],
   "source": [
    "gc_content('data/sample.fasta')"
   ]
  },
  {
   "cell_type": "code",
   "execution_count": 45,
   "metadata": {
    "collapsed": true
   },
   "outputs": [],
   "source": [
    "my_dict = {'emily': 'toblerone', 'sarah': 'mars bar', 'peter': 'nougat', 'ziphozakhe': 'muffin'}"
   ]
  },
  {
   "cell_type": "code",
   "execution_count": 46,
   "metadata": {
    "collapsed": false
   },
   "outputs": [
    {
     "data": {
      "text/plain": [
       "dict_keys(['ziphozakhe', 'emily', 'sarah', 'peter'])"
      ]
     },
     "execution_count": 46,
     "metadata": {},
     "output_type": "execute_result"
    }
   ],
   "source": [
    "my_dict.keys()"
   ]
  },
  {
   "cell_type": "code",
   "execution_count": 47,
   "metadata": {
    "collapsed": false
   },
   "outputs": [
    {
     "name": "stdout",
     "output_type": "stream",
     "text": [
      "0 ziphozakhe\n",
      "1 emily\n",
      "2 sarah\n",
      "3 peter\n"
     ]
    }
   ],
   "source": [
    "for index, name in enumerate(my_dict.keys()):\n",
    "    print(index, name)"
   ]
  },
  {
   "cell_type": "code",
   "execution_count": 48,
   "metadata": {
    "collapsed": false
   },
   "outputs": [
    {
     "name": "stdout",
     "output_type": "stream",
     "text": [
      "0 ziphozakhe\n",
      "1 emily\n",
      "2 sarah\n",
      "3 peter\n"
     ]
    }
   ],
   "source": [
    "for my_tuple in enumerate(my_dict.keys()):\n",
    "    index = my_tuple[0]\n",
    "    name = my_tuple[1]\n",
    "    print(index, name)"
   ]
  },
  {
   "cell_type": "code",
   "execution_count": 49,
   "metadata": {
    "collapsed": false
   },
   "outputs": [
    {
     "data": {
      "text/plain": [
       "[(0, 'ziphozakhe'), (1, 'emily'), (2, 'sarah'), (3, 'peter')]"
      ]
     },
     "execution_count": 49,
     "metadata": {},
     "output_type": "execute_result"
    }
   ],
   "source": [
    "list(enumerate(my_dict.keys()))"
   ]
  },
  {
   "cell_type": "code",
   "execution_count": 50,
   "metadata": {
    "collapsed": true
   },
   "outputs": [],
   "source": [
    "one, two = ('apple', 'pear')"
   ]
  },
  {
   "cell_type": "code",
   "execution_count": 51,
   "metadata": {
    "collapsed": false
   },
   "outputs": [
    {
     "name": "stdout",
     "output_type": "stream",
     "text": [
      "apple\n",
      "pear\n"
     ]
    }
   ],
   "source": [
    "print(one)\n",
    "print(two)"
   ]
  },
  {
   "cell_type": "code",
   "execution_count": 52,
   "metadata": {
    "collapsed": false
   },
   "outputs": [
    {
     "data": {
      "text/plain": [
       "'nougat'"
      ]
     },
     "execution_count": 52,
     "metadata": {},
     "output_type": "execute_result"
    }
   ],
   "source": [
    "my_dict.get('peter')"
   ]
  },
  {
   "cell_type": "code",
   "execution_count": 53,
   "metadata": {
    "collapsed": true
   },
   "outputs": [],
   "source": [
    "my_dict.get('thoba')"
   ]
  },
  {
   "cell_type": "code",
   "execution_count": 54,
   "metadata": {
    "collapsed": false
   },
   "outputs": [
    {
     "ename": "KeyError",
     "evalue": "'thoba'",
     "output_type": "error",
     "traceback": [
      "\u001b[0;31m---------------------------------------------------------------------------\u001b[0m",
      "\u001b[0;31mKeyError\u001b[0m                                  Traceback (most recent call last)",
      "\u001b[0;32m<ipython-input-54-4ffba9acf074>\u001b[0m in \u001b[0;36m<module>\u001b[0;34m()\u001b[0m\n\u001b[0;32m----> 1\u001b[0;31m \u001b[0mmy_dict\u001b[0m\u001b[0;34m[\u001b[0m\u001b[0;34m'thoba'\u001b[0m\u001b[0;34m]\u001b[0m\u001b[0;34m\u001b[0m\u001b[0m\n\u001b[0m",
      "\u001b[0;31mKeyError\u001b[0m: 'thoba'"
     ]
    }
   ],
   "source": [
    "my_dict['thoba']"
   ]
  },
  {
   "cell_type": "code",
   "execution_count": 55,
   "metadata": {
    "collapsed": false
   },
   "outputs": [
    {
     "name": "stdout",
     "output_type": "stream",
     "text": [
      "('ziphozakhe', 'muffin')\n",
      "('emily', 'toblerone')\n",
      "('sarah', 'mars bar')\n",
      "('peter', 'nougat')\n"
     ]
    }
   ],
   "source": [
    "for element in my_dict.items():\n",
    "    print(element)"
   ]
  },
  {
   "cell_type": "code",
   "execution_count": 56,
   "metadata": {
    "collapsed": false
   },
   "outputs": [
    {
     "data": {
      "text/plain": [
       "'ziphozakhe'"
      ]
     },
     "execution_count": 56,
     "metadata": {},
     "output_type": "execute_result"
    }
   ],
   "source": [
    "max(my_dict)"
   ]
  },
  {
   "cell_type": "code",
   "execution_count": 57,
   "metadata": {
    "collapsed": false
   },
   "outputs": [
    {
     "data": {
      "text/plain": [
       "True"
      ]
     },
     "execution_count": 57,
     "metadata": {},
     "output_type": "execute_result"
    }
   ],
   "source": [
    "('sarah', 'toblerone') > ('peter', 'nougat')"
   ]
  },
  {
   "cell_type": "code",
   "execution_count": 58,
   "metadata": {
    "collapsed": false
   },
   "outputs": [
    {
     "data": {
      "text/plain": [
       "'emily'"
      ]
     },
     "execution_count": 58,
     "metadata": {},
     "output_type": "execute_result"
    }
   ],
   "source": [
    "max(my_dict, key=my_dict.get)"
   ]
  },
  {
   "cell_type": "code",
   "execution_count": 59,
   "metadata": {
    "collapsed": false
   },
   "outputs": [
    {
     "name": "stdout",
     "output_type": "stream",
     "text": [
      "ziphozakhe\n",
      "emily\n",
      "sarah\n",
      "peter\n"
     ]
    }
   ],
   "source": [
    "for something in my_dict:\n",
    "    print(something)"
   ]
  },
  {
   "cell_type": "code",
   "execution_count": 60,
   "metadata": {
    "collapsed": false
   },
   "outputs": [
    {
     "name": "stdout",
     "output_type": "stream",
     "text": [
      "muffin\n",
      "toblerone\n",
      "mars bar\n",
      "nougat\n"
     ]
    }
   ],
   "source": [
    "for something in my_dict:\n",
    "    print(my_dict.get(something))"
   ]
  },
  {
   "cell_type": "code",
   "execution_count": 61,
   "metadata": {
    "collapsed": false
   },
   "outputs": [
    {
     "data": {
      "text/plain": [
       "'ziphozakhe'"
      ]
     },
     "execution_count": 61,
     "metadata": {},
     "output_type": "execute_result"
    }
   ],
   "source": [
    "max(my_dict, key=len)"
   ]
  },
  {
   "cell_type": "code",
   "execution_count": null,
   "metadata": {
    "collapsed": true
   },
   "outputs": [],
   "source": []
  }
 ],
 "metadata": {
  "anaconda-cloud": {},
  "celltoolbar": "Raw Cell Format",
  "kernelspec": {
   "display_name": "Python [Root]",
   "language": "python",
   "name": "Python [Root]"
  },
  "language_info": {
   "codemirror_mode": {
    "name": "ipython",
    "version": 3
   },
   "file_extension": ".py",
   "mimetype": "text/x-python",
   "name": "python",
   "nbconvert_exporter": "python",
   "pygments_lexer": "ipython3",
   "version": "3.5.2"
  }
 },
 "nbformat": 4,
 "nbformat_minor": 0
}
