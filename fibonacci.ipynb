{
 "cells": [
  {
   "cell_type": "code",
   "execution_count": 96,
   "metadata": {},
   "outputs": [
    {
     "name": "stdout",
     "output_type": "stream",
     "text": [
      "one gen: 1\n",
      "two gen: 1\n",
      "one gen: 2\n",
      "two gen: 1\n",
      "one gen: 3\n",
      "one gen: 1\n",
      "two gen: 1\n",
      "two gen: 2\n",
      "one gen: 5\n",
      "one gen: 1\n",
      "two gen: 1\n",
      "one gen: 2\n",
      "two gen: 1\n",
      "two gen: 3\n"
     ]
    },
    {
     "data": {
      "text/plain": [
       "14"
      ]
     },
     "execution_count": 96,
     "metadata": {},
     "output_type": "execute_result"
    }
   ],
   "source": [
    "def rabbits(months, offspring):\n",
    "    if months <= 1:\n",
    "        return 1\n",
    "    else:\n",
    "        oneGen = rabbits(months - 1, offspring)\n",
    "        print (\"one gen:\", oneGen)\n",
    "        twoGen = rabbits(months - 2, offspring)\n",
    "        print (\"two gen:\", twoGen)\n",
    "        if months <=4:\n",
    "            return (oneGen + twoGen)\n",
    "        else:\n",
    "            return (oneGen + (twoGen * offspring))\n",
    "\n",
    "rabbits (5,3)"
   ]
  },
  {
   "cell_type": "code",
   "execution_count": 95,
   "metadata": {},
   "outputs": [
    {
     "data": {
      "text/plain": [
       "8"
      ]
     },
     "execution_count": 95,
     "metadata": {},
     "output_type": "execute_result"
    }
   ],
   "source": [
    "def recur_fibo(n):\n",
    "   \"\"\"Recursive function to\n",
    "   print Fibonacci sequence\"\"\"\n",
    "   if n <= 1:\n",
    "       return n\n",
    "   else:\n",
    "       return(recur_fibo(n-1) + recur_fibo(n-2))\n",
    "recur_fibo(6)\n",
    "---"
   ]
  },
  {
   "cell_type": "code",
   "execution_count": 108,
   "metadata": {},
   "outputs": [
    {
     "data": {
      "text/plain": [
       "123280631024265"
      ]
     },
     "execution_count": 108,
     "metadata": {},
     "output_type": "execute_result"
    }
   ],
   "source": [
    "def recur_fibo(n,k):\n",
    "   \"\"\"Recursive function to\n",
    "   print Fibonacci sequence\"\"\"\n",
    "   if n <= 1:\n",
    "       return n\n",
    "   else:\n",
    "        one_gen = recur_fibo(n-1,k)\n",
    "        two_gen = recur_fibo(n-2,k)\n",
    "        return (one_gen + (two_gen * k))\n",
    "\n",
    "    \n",
    "recur_fibo(36,4)\n"
   ]
  },
  {
   "cell_type": "code",
   "execution_count": null,
   "metadata": {
    "collapsed": true
   },
   "outputs": [],
   "source": []
  },
  {
   "cell_type": "code",
   "execution_count": null,
   "metadata": {
    "collapsed": true
   },
   "outputs": [],
   "source": []
  }
 ],
 "metadata": {
  "kernelspec": {
   "display_name": "Python 3",
   "language": "python",
   "name": "python3"
  },
  "language_info": {
   "codemirror_mode": {
    "name": "ipython",
    "version": 3
   },
   "file_extension": ".py",
   "mimetype": "text/x-python",
   "name": "python",
   "nbconvert_exporter": "python",
   "pygments_lexer": "ipython3",
   "version": "3.6.1"
  }
 },
 "nbformat": 4,
 "nbformat_minor": 2
}
