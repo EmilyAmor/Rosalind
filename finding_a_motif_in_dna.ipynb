{
 "cells": [
  {
   "cell_type": "markdown",
   "metadata": {},
   "source": [
    "## Function for finding all the motifs in a sequence:"
   ]
  },
  {
   "cell_type": "code",
   "execution_count": 164,
   "metadata": {
    "collapsed": true
   },
   "outputs": [],
   "source": [
    "def find_motif(sequence, motif):\n",
    "    length_substring = len(motif)\n",
    "    length_string = len(sequence)\n",
    "    positions = []\n",
    "    for i in range(length_string - length_substring):\n",
    "        if sequence[i:i+length_substring] == motif:\n",
    "            positions.append(i+1)\n",
    "    return positions"
   ]
  },
  {
   "cell_type": "markdown",
   "metadata": {},
   "source": [
    "## Read in file and edit in correct function format:"
   ]
  },
  {
   "cell_type": "code",
   "execution_count": 165,
   "metadata": {},
   "outputs": [],
   "source": [
    "f = open(\"rosalind_subs.txt\", 'r')\n",
    "s = f.readlines()\n",
    "a = s[0].strip('\\n')\n",
    "b = s[1].strip('\\n')\n"
   ]
  },
  {
   "cell_type": "code",
   "execution_count": 166,
   "metadata": {},
   "outputs": [
    {
     "name": "stdout",
     "output_type": "stream",
     "text": [
      "[22, 97, 106, 113, 157, 227, 242, 286, 293, 316, 353, 360, 367, 395, 435, 514, 539, 616, 663, 670, 730, 759, 772, 798, 803]\n"
     ]
    }
   ],
   "source": [
    "answer = find_motif(a,b)\n",
    "print (answer)"
   ]
  },
  {
   "cell_type": "code",
   "execution_count": 167,
   "metadata": {
    "collapsed": true
   },
   "outputs": [],
   "source": [
    "outputfile = open(\"motif_positions.txt\", 'w')\n",
    "outputfile.write(str(answer))\n",
    "outputfile.close()"
   ]
  },
  {
   "cell_type": "code",
   "execution_count": 158,
   "metadata": {
    "collapsed": true
   },
   "outputs": [],
   "source": [
    "s = \"atatattttatatcccggatatata\"\n",
    "t = \"atat\""
   ]
  },
  {
   "cell_type": "code",
   "execution_count": 159,
   "metadata": {},
   "outputs": [
    {
     "name": "stdout",
     "output_type": "stream",
     "text": [
      "[1, 3, 10, 19, 21]\n"
     ]
    }
   ],
   "source": [
    "x = find_motif(s,t)\n",
    "print (x)"
   ]
  },
  {
   "cell_type": "code",
   "execution_count": null,
   "metadata": {
    "collapsed": true
   },
   "outputs": [],
   "source": []
  }
 ],
 "metadata": {
  "kernelspec": {
   "display_name": "Python 3",
   "language": "python",
   "name": "python3"
  },
  "language_info": {
   "codemirror_mode": {
    "name": "ipython",
    "version": 3
   },
   "file_extension": ".py",
   "mimetype": "text/x-python",
   "name": "python",
   "nbconvert_exporter": "python",
   "pygments_lexer": "ipython3",
   "version": "3.6.1"
  }
 },
 "nbformat": 4,
 "nbformat_minor": 2
}
